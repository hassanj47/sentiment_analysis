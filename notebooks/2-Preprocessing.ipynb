{
  "nbformat": 4,
  "nbformat_minor": 0,
  "metadata": {
    "colab": {
      "provenance": [],
      "gpuType": "T4"
    },
    "kernelspec": {
      "name": "python3",
      "display_name": "Python 3"
    },
    "language_info": {
      "name": "python"
    },
    "gpuClass": "standard"
  },
  "cells": [
    {
      "cell_type": "markdown",
      "source": [
        "### Installs"
      ],
      "metadata": {
        "id": "Ul4mTyPVeG59"
      }
    },
    {
      "cell_type": "code",
      "source": [
        "!pip install langdetect"
      ],
      "metadata": {
        "colab": {
          "base_uri": "https://localhost:8080/"
        },
        "id": "d39ZuYdpuTHf",
        "outputId": "8336d88c-f708-4bae-db90-3aae926cb5b9"
      },
      "execution_count": null,
      "outputs": [
        {
          "output_type": "stream",
          "name": "stdout",
          "text": [
            "Looking in indexes: https://pypi.org/simple, https://us-python.pkg.dev/colab-wheels/public/simple/\n",
            "Collecting langdetect\n",
            "  Downloading langdetect-1.0.9.tar.gz (981 kB)\n",
            "\u001b[2K     \u001b[90m━━━━━━━━━━━━━━━━━━━━━━━━━━━━━━━━━━━━━━\u001b[0m \u001b[32m981.5/981.5 kB\u001b[0m \u001b[31m19.4 MB/s\u001b[0m eta \u001b[36m0:00:00\u001b[0m\n",
            "\u001b[?25h  Preparing metadata (setup.py) ... \u001b[?25l\u001b[?25hdone\n",
            "Requirement already satisfied: six in /usr/local/lib/python3.10/dist-packages (from langdetect) (1.16.0)\n",
            "Building wheels for collected packages: langdetect\n",
            "  Building wheel for langdetect (setup.py) ... \u001b[?25l\u001b[?25hdone\n",
            "  Created wheel for langdetect: filename=langdetect-1.0.9-py3-none-any.whl size=993224 sha256=3826ea49cbb46086a07adaa82b13ec248df17b4408c543f0871e06582d73fcab\n",
            "  Stored in directory: /root/.cache/pip/wheels/95/03/7d/59ea870c70ce4e5a370638b5462a7711ab78fba2f655d05106\n",
            "Successfully built langdetect\n",
            "Installing collected packages: langdetect\n",
            "Successfully installed langdetect-1.0.9\n"
          ]
        }
      ]
    },
    {
      "cell_type": "markdown",
      "source": [
        "### Imports"
      ],
      "metadata": {
        "id": "m2EPUSJ-eJpD"
      }
    },
    {
      "cell_type": "code",
      "execution_count": null,
      "metadata": {
        "id": "FrMUTkm-l4ua"
      },
      "outputs": [],
      "source": [
        "import numpy as np\n",
        "import pandas as pd\n",
        "import re\n",
        "import nltk\n",
        "from nltk.tokenize import TweetTokenizer"
      ]
    },
    {
      "cell_type": "code",
      "source": [
        "from langdetect import detect"
      ],
      "metadata": {
        "id": "wWlrld7ttddc"
      },
      "execution_count": null,
      "outputs": []
    },
    {
      "cell_type": "markdown",
      "source": [
        "### Input data"
      ],
      "metadata": {
        "id": "Mw6ulesLefNM"
      }
    },
    {
      "cell_type": "code",
      "source": [
        "inbound = pd.read_parquet('/content/drive/MyDrive/Projects/Case Studies/sentiment_analysis/amazonhelp_in.gzip')"
      ],
      "metadata": {
        "id": "qy8GYXIj2ZXY"
      },
      "execution_count": null,
      "outputs": []
    },
    {
      "cell_type": "code",
      "source": [
        "inbound.head()"
      ],
      "metadata": {
        "colab": {
          "base_uri": "https://localhost:8080/",
          "height": 206
        },
        "id": "Klv6VMZXG0fu",
        "outputId": "89fedc11-d867-4ea7-f9f3-d0dee269bce6"
      },
      "execution_count": null,
      "outputs": [
        {
          "output_type": "execute_result",
          "data": {
            "text/plain": [
              "     tweet_id author_id  inbound                created_at  \\\n",
              "182       270    115770     True 2017-11-22 09:24:30+00:00   \n",
              "183       271    115770     True 2017-11-22 09:30:36+00:00   \n",
              "185       274    115770     True 2017-11-22 09:44:04+00:00   \n",
              "322       616    115820     True 2017-10-31 23:22:08+00:00   \n",
              "324       619    115820     True 2017-10-31 23:32:26+00:00   \n",
              "\n",
              "                                                  text response_tweet_id  \\\n",
              "182      @AmazonHelp ありがとうございます。\\n今、電話で主人が対応していただいてます。              None   \n",
              "183  @AmazonHelp 電話で対応してもらいましたが改良されませんでした。\\n保証期間も過ぎ...               273   \n",
              "185                      @AmazonHelp こちらこそありがとうございました。               275   \n",
              "322  @AmazonHelp 3 different people have given 3 di...               618   \n",
              "324  @AmazonHelp I frankly don't have the patience ...              None   \n",
              "\n",
              "     in_response_to_tweet_id service_provider  \n",
              "182                    269.0       amazonhelp  \n",
              "183                    269.0       amazonhelp  \n",
              "185                    273.0       amazonhelp  \n",
              "322                    615.0       amazonhelp  \n",
              "324                    618.0       amazonhelp  "
            ],
            "text/html": [
              "\n",
              "  <div id=\"df-97cac2b1-1989-4cd1-a624-3affb91bb8ed\">\n",
              "    <div class=\"colab-df-container\">\n",
              "      <div>\n",
              "<style scoped>\n",
              "    .dataframe tbody tr th:only-of-type {\n",
              "        vertical-align: middle;\n",
              "    }\n",
              "\n",
              "    .dataframe tbody tr th {\n",
              "        vertical-align: top;\n",
              "    }\n",
              "\n",
              "    .dataframe thead th {\n",
              "        text-align: right;\n",
              "    }\n",
              "</style>\n",
              "<table border=\"1\" class=\"dataframe\">\n",
              "  <thead>\n",
              "    <tr style=\"text-align: right;\">\n",
              "      <th></th>\n",
              "      <th>tweet_id</th>\n",
              "      <th>author_id</th>\n",
              "      <th>inbound</th>\n",
              "      <th>created_at</th>\n",
              "      <th>text</th>\n",
              "      <th>response_tweet_id</th>\n",
              "      <th>in_response_to_tweet_id</th>\n",
              "      <th>service_provider</th>\n",
              "    </tr>\n",
              "  </thead>\n",
              "  <tbody>\n",
              "    <tr>\n",
              "      <th>182</th>\n",
              "      <td>270</td>\n",
              "      <td>115770</td>\n",
              "      <td>True</td>\n",
              "      <td>2017-11-22 09:24:30+00:00</td>\n",
              "      <td>@AmazonHelp ありがとうございます。\\n今、電話で主人が対応していただいてます。</td>\n",
              "      <td>None</td>\n",
              "      <td>269.0</td>\n",
              "      <td>amazonhelp</td>\n",
              "    </tr>\n",
              "    <tr>\n",
              "      <th>183</th>\n",
              "      <td>271</td>\n",
              "      <td>115770</td>\n",
              "      <td>True</td>\n",
              "      <td>2017-11-22 09:30:36+00:00</td>\n",
              "      <td>@AmazonHelp 電話で対応してもらいましたが改良されませんでした。\\n保証期間も過ぎ...</td>\n",
              "      <td>273</td>\n",
              "      <td>269.0</td>\n",
              "      <td>amazonhelp</td>\n",
              "    </tr>\n",
              "    <tr>\n",
              "      <th>185</th>\n",
              "      <td>274</td>\n",
              "      <td>115770</td>\n",
              "      <td>True</td>\n",
              "      <td>2017-11-22 09:44:04+00:00</td>\n",
              "      <td>@AmazonHelp こちらこそありがとうございました。</td>\n",
              "      <td>275</td>\n",
              "      <td>273.0</td>\n",
              "      <td>amazonhelp</td>\n",
              "    </tr>\n",
              "    <tr>\n",
              "      <th>322</th>\n",
              "      <td>616</td>\n",
              "      <td>115820</td>\n",
              "      <td>True</td>\n",
              "      <td>2017-10-31 23:22:08+00:00</td>\n",
              "      <td>@AmazonHelp 3 different people have given 3 di...</td>\n",
              "      <td>618</td>\n",
              "      <td>615.0</td>\n",
              "      <td>amazonhelp</td>\n",
              "    </tr>\n",
              "    <tr>\n",
              "      <th>324</th>\n",
              "      <td>619</td>\n",
              "      <td>115820</td>\n",
              "      <td>True</td>\n",
              "      <td>2017-10-31 23:32:26+00:00</td>\n",
              "      <td>@AmazonHelp I frankly don't have the patience ...</td>\n",
              "      <td>None</td>\n",
              "      <td>618.0</td>\n",
              "      <td>amazonhelp</td>\n",
              "    </tr>\n",
              "  </tbody>\n",
              "</table>\n",
              "</div>\n",
              "      <button class=\"colab-df-convert\" onclick=\"convertToInteractive('df-97cac2b1-1989-4cd1-a624-3affb91bb8ed')\"\n",
              "              title=\"Convert this dataframe to an interactive table.\"\n",
              "              style=\"display:none;\">\n",
              "        \n",
              "  <svg xmlns=\"http://www.w3.org/2000/svg\" height=\"24px\"viewBox=\"0 0 24 24\"\n",
              "       width=\"24px\">\n",
              "    <path d=\"M0 0h24v24H0V0z\" fill=\"none\"/>\n",
              "    <path d=\"M18.56 5.44l.94 2.06.94-2.06 2.06-.94-2.06-.94-.94-2.06-.94 2.06-2.06.94zm-11 1L8.5 8.5l.94-2.06 2.06-.94-2.06-.94L8.5 2.5l-.94 2.06-2.06.94zm10 10l.94 2.06.94-2.06 2.06-.94-2.06-.94-.94-2.06-.94 2.06-2.06.94z\"/><path d=\"M17.41 7.96l-1.37-1.37c-.4-.4-.92-.59-1.43-.59-.52 0-1.04.2-1.43.59L10.3 9.45l-7.72 7.72c-.78.78-.78 2.05 0 2.83L4 21.41c.39.39.9.59 1.41.59.51 0 1.02-.2 1.41-.59l7.78-7.78 2.81-2.81c.8-.78.8-2.07 0-2.86zM5.41 20L4 18.59l7.72-7.72 1.47 1.35L5.41 20z\"/>\n",
              "  </svg>\n",
              "      </button>\n",
              "      \n",
              "  <style>\n",
              "    .colab-df-container {\n",
              "      display:flex;\n",
              "      flex-wrap:wrap;\n",
              "      gap: 12px;\n",
              "    }\n",
              "\n",
              "    .colab-df-convert {\n",
              "      background-color: #E8F0FE;\n",
              "      border: none;\n",
              "      border-radius: 50%;\n",
              "      cursor: pointer;\n",
              "      display: none;\n",
              "      fill: #1967D2;\n",
              "      height: 32px;\n",
              "      padding: 0 0 0 0;\n",
              "      width: 32px;\n",
              "    }\n",
              "\n",
              "    .colab-df-convert:hover {\n",
              "      background-color: #E2EBFA;\n",
              "      box-shadow: 0px 1px 2px rgba(60, 64, 67, 0.3), 0px 1px 3px 1px rgba(60, 64, 67, 0.15);\n",
              "      fill: #174EA6;\n",
              "    }\n",
              "\n",
              "    [theme=dark] .colab-df-convert {\n",
              "      background-color: #3B4455;\n",
              "      fill: #D2E3FC;\n",
              "    }\n",
              "\n",
              "    [theme=dark] .colab-df-convert:hover {\n",
              "      background-color: #434B5C;\n",
              "      box-shadow: 0px 1px 3px 1px rgba(0, 0, 0, 0.15);\n",
              "      filter: drop-shadow(0px 1px 2px rgba(0, 0, 0, 0.3));\n",
              "      fill: #FFFFFF;\n",
              "    }\n",
              "  </style>\n",
              "\n",
              "      <script>\n",
              "        const buttonEl =\n",
              "          document.querySelector('#df-97cac2b1-1989-4cd1-a624-3affb91bb8ed button.colab-df-convert');\n",
              "        buttonEl.style.display =\n",
              "          google.colab.kernel.accessAllowed ? 'block' : 'none';\n",
              "\n",
              "        async function convertToInteractive(key) {\n",
              "          const element = document.querySelector('#df-97cac2b1-1989-4cd1-a624-3affb91bb8ed');\n",
              "          const dataTable =\n",
              "            await google.colab.kernel.invokeFunction('convertToInteractive',\n",
              "                                                     [key], {});\n",
              "          if (!dataTable) return;\n",
              "\n",
              "          const docLinkHtml = 'Like what you see? Visit the ' +\n",
              "            '<a target=\"_blank\" href=https://colab.research.google.com/notebooks/data_table.ipynb>data table notebook</a>'\n",
              "            + ' to learn more about interactive tables.';\n",
              "          element.innerHTML = '';\n",
              "          dataTable['output_type'] = 'display_data';\n",
              "          await google.colab.output.renderOutput(dataTable, element);\n",
              "          const docLink = document.createElement('div');\n",
              "          docLink.innerHTML = docLinkHtml;\n",
              "          element.appendChild(docLink);\n",
              "        }\n",
              "      </script>\n",
              "    </div>\n",
              "  </div>\n",
              "  "
            ]
          },
          "metadata": {},
          "execution_count": 5
        }
      ]
    },
    {
      "cell_type": "code",
      "source": [
        "def remove_emojis(text):\n",
        "    emoji_pattern = re.compile(\"[\"\n",
        "                               u\"\\U0001F600-\\U0001F64F\"  # emoticons\n",
        "                               u\"\\U0001F300-\\U0001F5FF\"  # symbols & pictographs\n",
        "                               u\"\\U0001F680-\\U0001F6FF\"  # transport & map symbols\n",
        "                               u\"\\U0001F1E0-\\U0001F1FF\"  # flags (iOS)\n",
        "                               u\"\\U00002500-\\U00002BEF\"  # chinese char\n",
        "                               u\"\\U00002702-\\U000027B0\"\n",
        "                               u\"\\U00002702-\\U000027B0\"\n",
        "                               u\"\\U000024C2-\\U0001F251\"\n",
        "                               u\"\\U0001f926-\\U0001f937\"\n",
        "                               u'\\U00010000-\\U0010ffff'\n",
        "                               u\"\\u200d\"\n",
        "                               u\"\\u2640-\\u2642\"\n",
        "                               u\"\\u2600-\\u2B55\"\n",
        "                               u\"\\u23cf\"\n",
        "                               u\"\\u23e9\"\n",
        "                               u\"\\u231a\"\n",
        "                               u\"\\u3030\"\n",
        "                               u\"\\ufe0f\"\n",
        "                               u\"\\u2069\"\n",
        "                               u\"\\u2066\"\n",
        "                               \"]+\", flags=re.UNICODE)\n",
        "    return emoji_pattern.sub(r'', text)\n",
        "\n",
        "inbound.loc[:,'text'] = inbound['text'].apply(remove_emojis)"
      ],
      "metadata": {
        "id": "J32THBJNvUBU"
      },
      "execution_count": null,
      "outputs": []
    },
    {
      "cell_type": "code",
      "source": [
        "inbound.head()"
      ],
      "metadata": {
        "colab": {
          "base_uri": "https://localhost:8080/",
          "height": 206
        },
        "id": "CDsgVqXiwGcR",
        "outputId": "44163f26-6a58-44e7-d25c-9693fd87d57d"
      },
      "execution_count": null,
      "outputs": [
        {
          "output_type": "execute_result",
          "data": {
            "text/plain": [
              "     tweet_id author_id  inbound                created_at  \\\n",
              "182       270    115770     True 2017-11-22 09:24:30+00:00   \n",
              "183       271    115770     True 2017-11-22 09:30:36+00:00   \n",
              "185       274    115770     True 2017-11-22 09:44:04+00:00   \n",
              "322       616    115820     True 2017-10-31 23:22:08+00:00   \n",
              "324       619    115820     True 2017-10-31 23:32:26+00:00   \n",
              "\n",
              "                                                  text response_tweet_id  \\\n",
              "182                                     @AmazonHelp \\n              None   \n",
              "183                                     @AmazonHelp \\n               273   \n",
              "185                                       @AmazonHelp                275   \n",
              "322  @AmazonHelp 3 different people have given 3 di...               618   \n",
              "324  @AmazonHelp I frankly don't have the patience ...              None   \n",
              "\n",
              "     in_response_to_tweet_id service_provider  \n",
              "182                    269.0       amazonhelp  \n",
              "183                    269.0       amazonhelp  \n",
              "185                    273.0       amazonhelp  \n",
              "322                    615.0       amazonhelp  \n",
              "324                    618.0       amazonhelp  "
            ],
            "text/html": [
              "\n",
              "  <div id=\"df-ed0dd9fb-235d-435e-a520-7498bcfcf399\">\n",
              "    <div class=\"colab-df-container\">\n",
              "      <div>\n",
              "<style scoped>\n",
              "    .dataframe tbody tr th:only-of-type {\n",
              "        vertical-align: middle;\n",
              "    }\n",
              "\n",
              "    .dataframe tbody tr th {\n",
              "        vertical-align: top;\n",
              "    }\n",
              "\n",
              "    .dataframe thead th {\n",
              "        text-align: right;\n",
              "    }\n",
              "</style>\n",
              "<table border=\"1\" class=\"dataframe\">\n",
              "  <thead>\n",
              "    <tr style=\"text-align: right;\">\n",
              "      <th></th>\n",
              "      <th>tweet_id</th>\n",
              "      <th>author_id</th>\n",
              "      <th>inbound</th>\n",
              "      <th>created_at</th>\n",
              "      <th>text</th>\n",
              "      <th>response_tweet_id</th>\n",
              "      <th>in_response_to_tweet_id</th>\n",
              "      <th>service_provider</th>\n",
              "    </tr>\n",
              "  </thead>\n",
              "  <tbody>\n",
              "    <tr>\n",
              "      <th>182</th>\n",
              "      <td>270</td>\n",
              "      <td>115770</td>\n",
              "      <td>True</td>\n",
              "      <td>2017-11-22 09:24:30+00:00</td>\n",
              "      <td>@AmazonHelp \\n</td>\n",
              "      <td>None</td>\n",
              "      <td>269.0</td>\n",
              "      <td>amazonhelp</td>\n",
              "    </tr>\n",
              "    <tr>\n",
              "      <th>183</th>\n",
              "      <td>271</td>\n",
              "      <td>115770</td>\n",
              "      <td>True</td>\n",
              "      <td>2017-11-22 09:30:36+00:00</td>\n",
              "      <td>@AmazonHelp \\n</td>\n",
              "      <td>273</td>\n",
              "      <td>269.0</td>\n",
              "      <td>amazonhelp</td>\n",
              "    </tr>\n",
              "    <tr>\n",
              "      <th>185</th>\n",
              "      <td>274</td>\n",
              "      <td>115770</td>\n",
              "      <td>True</td>\n",
              "      <td>2017-11-22 09:44:04+00:00</td>\n",
              "      <td>@AmazonHelp</td>\n",
              "      <td>275</td>\n",
              "      <td>273.0</td>\n",
              "      <td>amazonhelp</td>\n",
              "    </tr>\n",
              "    <tr>\n",
              "      <th>322</th>\n",
              "      <td>616</td>\n",
              "      <td>115820</td>\n",
              "      <td>True</td>\n",
              "      <td>2017-10-31 23:22:08+00:00</td>\n",
              "      <td>@AmazonHelp 3 different people have given 3 di...</td>\n",
              "      <td>618</td>\n",
              "      <td>615.0</td>\n",
              "      <td>amazonhelp</td>\n",
              "    </tr>\n",
              "    <tr>\n",
              "      <th>324</th>\n",
              "      <td>619</td>\n",
              "      <td>115820</td>\n",
              "      <td>True</td>\n",
              "      <td>2017-10-31 23:32:26+00:00</td>\n",
              "      <td>@AmazonHelp I frankly don't have the patience ...</td>\n",
              "      <td>None</td>\n",
              "      <td>618.0</td>\n",
              "      <td>amazonhelp</td>\n",
              "    </tr>\n",
              "  </tbody>\n",
              "</table>\n",
              "</div>\n",
              "      <button class=\"colab-df-convert\" onclick=\"convertToInteractive('df-ed0dd9fb-235d-435e-a520-7498bcfcf399')\"\n",
              "              title=\"Convert this dataframe to an interactive table.\"\n",
              "              style=\"display:none;\">\n",
              "        \n",
              "  <svg xmlns=\"http://www.w3.org/2000/svg\" height=\"24px\"viewBox=\"0 0 24 24\"\n",
              "       width=\"24px\">\n",
              "    <path d=\"M0 0h24v24H0V0z\" fill=\"none\"/>\n",
              "    <path d=\"M18.56 5.44l.94 2.06.94-2.06 2.06-.94-2.06-.94-.94-2.06-.94 2.06-2.06.94zm-11 1L8.5 8.5l.94-2.06 2.06-.94-2.06-.94L8.5 2.5l-.94 2.06-2.06.94zm10 10l.94 2.06.94-2.06 2.06-.94-2.06-.94-.94-2.06-.94 2.06-2.06.94z\"/><path d=\"M17.41 7.96l-1.37-1.37c-.4-.4-.92-.59-1.43-.59-.52 0-1.04.2-1.43.59L10.3 9.45l-7.72 7.72c-.78.78-.78 2.05 0 2.83L4 21.41c.39.39.9.59 1.41.59.51 0 1.02-.2 1.41-.59l7.78-7.78 2.81-2.81c.8-.78.8-2.07 0-2.86zM5.41 20L4 18.59l7.72-7.72 1.47 1.35L5.41 20z\"/>\n",
              "  </svg>\n",
              "      </button>\n",
              "      \n",
              "  <style>\n",
              "    .colab-df-container {\n",
              "      display:flex;\n",
              "      flex-wrap:wrap;\n",
              "      gap: 12px;\n",
              "    }\n",
              "\n",
              "    .colab-df-convert {\n",
              "      background-color: #E8F0FE;\n",
              "      border: none;\n",
              "      border-radius: 50%;\n",
              "      cursor: pointer;\n",
              "      display: none;\n",
              "      fill: #1967D2;\n",
              "      height: 32px;\n",
              "      padding: 0 0 0 0;\n",
              "      width: 32px;\n",
              "    }\n",
              "\n",
              "    .colab-df-convert:hover {\n",
              "      background-color: #E2EBFA;\n",
              "      box-shadow: 0px 1px 2px rgba(60, 64, 67, 0.3), 0px 1px 3px 1px rgba(60, 64, 67, 0.15);\n",
              "      fill: #174EA6;\n",
              "    }\n",
              "\n",
              "    [theme=dark] .colab-df-convert {\n",
              "      background-color: #3B4455;\n",
              "      fill: #D2E3FC;\n",
              "    }\n",
              "\n",
              "    [theme=dark] .colab-df-convert:hover {\n",
              "      background-color: #434B5C;\n",
              "      box-shadow: 0px 1px 3px 1px rgba(0, 0, 0, 0.15);\n",
              "      filter: drop-shadow(0px 1px 2px rgba(0, 0, 0, 0.3));\n",
              "      fill: #FFFFFF;\n",
              "    }\n",
              "  </style>\n",
              "\n",
              "      <script>\n",
              "        const buttonEl =\n",
              "          document.querySelector('#df-ed0dd9fb-235d-435e-a520-7498bcfcf399 button.colab-df-convert');\n",
              "        buttonEl.style.display =\n",
              "          google.colab.kernel.accessAllowed ? 'block' : 'none';\n",
              "\n",
              "        async function convertToInteractive(key) {\n",
              "          const element = document.querySelector('#df-ed0dd9fb-235d-435e-a520-7498bcfcf399');\n",
              "          const dataTable =\n",
              "            await google.colab.kernel.invokeFunction('convertToInteractive',\n",
              "                                                     [key], {});\n",
              "          if (!dataTable) return;\n",
              "\n",
              "          const docLinkHtml = 'Like what you see? Visit the ' +\n",
              "            '<a target=\"_blank\" href=https://colab.research.google.com/notebooks/data_table.ipynb>data table notebook</a>'\n",
              "            + ' to learn more about interactive tables.';\n",
              "          element.innerHTML = '';\n",
              "          dataTable['output_type'] = 'display_data';\n",
              "          await google.colab.output.renderOutput(dataTable, element);\n",
              "          const docLink = document.createElement('div');\n",
              "          docLink.innerHTML = docLinkHtml;\n",
              "          element.appendChild(docLink);\n",
              "        }\n",
              "      </script>\n",
              "    </div>\n",
              "  </div>\n",
              "  "
            ]
          },
          "metadata": {},
          "execution_count": 7
        }
      ]
    },
    {
      "cell_type": "code",
      "source": [
        "# remove non-english tweets\n",
        "def is_english(text):\n",
        "    try:\n",
        "        return detect(text) == 'en'\n",
        "    except:\n",
        "        return False\n",
        "\n",
        "inbound = inbound[inbound['text'].apply(is_english)]"
      ],
      "metadata": {
        "id": "m0u3s9iKuxmM"
      },
      "execution_count": null,
      "outputs": []
    },
    {
      "cell_type": "code",
      "source": [
        "inbound.shape"
      ],
      "metadata": {
        "colab": {
          "base_uri": "https://localhost:8080/"
        },
        "id": "PaQVMJhewJAJ",
        "outputId": "af77eca5-7830-4cd2-9136-8437f585cca9"
      },
      "execution_count": null,
      "outputs": [
        {
          "output_type": "execute_result",
          "data": {
            "text/plain": [
              "(93907, 8)"
            ]
          },
          "metadata": {},
          "execution_count": 9
        }
      ]
    },
    {
      "cell_type": "code",
      "source": [
        "inbound.to_csv('/content/drive/MyDrive/Projects/Case Studies/sentiment_analysis/amazonhelp_preprocessed.csv')\n",
        "inbound.to_parquet('/content/drive/MyDrive/Projects/Case Studies/sentiment_analysis/amazonhelp_preprocessed.gzip')"
      ],
      "metadata": {
        "id": "zMca1m31K7Xp"
      },
      "execution_count": null,
      "outputs": []
    },
    {
      "cell_type": "code",
      "source": [],
      "metadata": {
        "id": "fdVgjCtcK7y2"
      },
      "execution_count": null,
      "outputs": []
    },
    {
      "cell_type": "code",
      "source": [],
      "metadata": {
        "id": "A6z3tDN7OliU"
      },
      "execution_count": null,
      "outputs": []
    }
  ]
}